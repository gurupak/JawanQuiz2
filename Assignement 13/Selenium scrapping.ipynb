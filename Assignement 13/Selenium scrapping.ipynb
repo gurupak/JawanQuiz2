{
 "cells": [
  {
   "cell_type": "markdown",
   "id": "d45e7109",
   "metadata": {},
   "source": [
    "## Selenium\n",
    "# Dynamic website scrap and testing"
   ]
  },
  {
   "cell_type": "code",
   "execution_count": 1,
   "id": "cd47b24c",
   "metadata": {},
   "outputs": [],
   "source": [
    "import csv\n",
    "import pandas as pd\n",
    "from time import sleep\n",
    "import os"
   ]
  },
  {
   "cell_type": "code",
   "execution_count": 2,
   "id": "8014c508",
   "metadata": {},
   "outputs": [],
   "source": [
    "from selenium.webdriver.common.by import By\n",
    "from selenium.webdriver.support.ui import WebDriverWait\n",
    "from selenium.webdriver.support import expected_conditions as EC\n",
    "from selenium import webdriver\n",
    "from webdriver_manager.chrome import ChromeDriverManager\n",
    "from selenium.common.exceptions import StaleElementReferenceException\n",
    "from selenium.webdriver.support.select import Select"
   ]
  },
  {
   "cell_type": "code",
   "execution_count": 3,
   "id": "ae31efa4",
   "metadata": {},
   "outputs": [],
   "source": [
    "def get_page(driver, url):\n",
    "    driver.get(url)\n",
    "    \n",
    "    test = WebDriverWait(driver, 5).until(EC.presence_of_element_located((By.XPATH, '/html/body/div/div/section[2]/section/div[2]/section/section/div/div/div/div[8]/div/select')))\n",
    "    test.click()\n",
    "    \n",
    "    \n",
    "    btn_country = WebDriverWait(driver, 20).until(EC.presence_of_element_located((By.XPATH, \"/html/body/div/div/section[2]/section/div[2]/section/section/div/div/div/div[8]/div/select\" )))\n",
    "    btn_country.click()\n",
    "    select_country = WebDriverWait(driver, 10).until(EC.presence_of_element_located((By.XPATH, \"/html/body/div/div/section[2]/section/div[2]/section/section/div/div/div/div[8]/div/select/option[100]\")))\n",
    "    select_country.click()\n",
    "    \n",
    "    save_country = WebDriverWait(driver, 10).until(EC.presence_of_element_located((By.XPATH, '/html/body/div/div/section[2]/section/div[2]/section/section/div/div/div/div[8]/button[1]')))\n",
    "    save_country.click()    \n",
    "    \n",
    "#     line_count = WebDriverWait(driver, 10).until(EC.presence_of_element_located((By.XPATH, '//*[@id=\"app\"]/div/section[2]/section/div[1]/section[4]/section/div/div[2]/button[2]')))\n",
    "#     line_count.click()\n",
    "    \n",
    "#     select_count = WebDriverWait(driver, 10).until(EC.presence_of_element_located((By.XPATH, '//*[@id=\"app\"]/div/section[2]/section/div[2]/section/button/span[2]')))\n",
    "#     select_count.click()\n",
    "    sleep(5)\n",
    "    lines = WebDriverWait(driver, 20).until(EC.presence_of_all_elements_located((By.CLASS_NAME, 'product-details__listings-results')))\n",
    "#     driver.find_elements_by_class_name('product-details__listings-results')    \n",
    "    return lines"
   ]
  },
  {
   "cell_type": "code",
   "execution_count": 4,
   "id": "9cd39997",
   "metadata": {},
   "outputs": [],
   "source": [
    "all_sellers = []\n",
    "all_listing_condition = []\n",
    "all_prices = []\n",
    "\n",
    "def get_prices(line):\n",
    "    try:\n",
    "        seller = line.find_element_by_class_name('seller-info__name').text.strip()\n",
    "    except StaleElementReferenceException as ex:\n",
    "        print (ex)\n",
    "        seller = ''\n",
    "        \n",
    "    try:\n",
    "        listing_condition = line.find_element_by_class_name('listing-item__condition').text.strip().lower()\n",
    "    except:\n",
    "        listing_condition = ''\n",
    "        \n",
    "    try:\n",
    "        price = line.find_element_by_class_name('listing-item__price').text\n",
    "        price = float(price.replace('$', '').replace(',', ''))\n",
    "    except:\n",
    "        price = ''\n",
    "        \n",
    "    all_sellers.append(seller)\n",
    "    all_listing_condition.append(listing_condition)\n",
    "    all_prices.append(price)\n",
    "    \n",
    "    "
   ]
  },
  {
   "cell_type": "code",
   "execution_count": 5,
   "id": "8a772ce9",
   "metadata": {},
   "outputs": [],
   "source": [
    "def find_countries(driver, url):\n",
    "    driver.get(url)\n",
    "    driver.maximize_window()\n",
    "    countries = test = WebDriverWait(driver, 10).until(EC.presence_of_element_located((By.XPATH, '//*[@id=\"app\"]/div/section[2]/section/div[2]/section/section/div/div[1]/div/div[8]/div/select')))\n",
    "#     countries = driver.find_element_by_xpath('//*[@id=\"app\"]/div/section[2]/section/div[2]/section/section/div/div[1]/div/div[8]/div/select')\n",
    "    d= Select(countries)\n",
    "    #iterate over dropdown options\n",
    "    for opt in d.options:\n",
    "    #get option text\n",
    "       print(opt.text)\n",
    "    print(countries.get_attribute('multiple'))\n",
    "    options = [x for x in countries.find_elements_by_tag_name(\"option\")]\n",
    "    for element in options:\n",
    "        print(element.get_attribute(\"value\"))"
   ]
  },
  {
   "cell_type": "code",
   "execution_count": 6,
   "id": "17b73c75",
   "metadata": {},
   "outputs": [],
   "source": [
    "def main2():\n",
    "    url = 'https://www.tcgplayer.com/product/228666/yugioh-genesis-impact-meteonis-drytron?Language=English'\n",
    "    driver = webdriver.Chrome(\"C:\\Program Files\\Google\\Chrome\\Application\\chromedriver\")\n",
    "    find_countries(driver, url)"
   ]
  },
  {
   "cell_type": "code",
   "execution_count": 17,
   "id": "cfbd2857",
   "metadata": {},
   "outputs": [],
   "source": [
    "def main():\n",
    "    url = 'https://www.tcgplayer.com/product/228666/yugioh-genesis-impact-meteonis-drytron?Language=English'\n",
    "    driver = webdriver.Chrome(\"C:\\Program Files\\Google\\Chrome\\Application\\chromedriver\")\n",
    "    \n",
    "    lines = get_page(driver, url)\n",
    "#     print(lines.get_attribute('innerHTML'))\n",
    "    print(len(lines))\n",
    "    for line in lines:\n",
    "        get_prices(line)\n",
    "    \n",
    "    data = { 'seller': all_sellers, \n",
    "             'listing_condition': all_listing_condition, \n",
    "             'price': all_prices}\n",
    "    \n",
    "    df = pd.DataFrame(data)\n",
    "    print(df.head())\n",
    "    try:\n",
    "        os.unlink('selenium_ex.csv')\n",
    "    except FileNotFoundError:\n",
    "        print('File not found')\n",
    "    df.to_csv('selenium_ex.csv')\n",
    "    driver.quit()"
   ]
  },
  {
   "cell_type": "code",
   "execution_count": 18,
   "id": "f779daa6",
   "metadata": {},
   "outputs": [
    {
     "name": "stderr",
     "output_type": "stream",
     "text": [
      "C:\\Users\\irfan\\AppData\\Local\\Temp/ipykernel_11796/440891450.py:3: DeprecationWarning: executable_path has been deprecated, please pass in a Service object\n",
      "  driver = webdriver.Chrome(\"C:\\Program Files\\Google\\Chrome\\Application\\chromedriver\")\n"
     ]
    },
    {
     "name": "stdout",
     "output_type": "stream",
     "text": [
      "5\n"
     ]
    },
    {
     "name": "stderr",
     "output_type": "stream",
     "text": [
      "C:\\Users\\irfan\\AppData\\Local\\Temp/ipykernel_11796/1956121409.py:7: DeprecationWarning: find_element_by_class_name is deprecated. Please use find_element(by=By.CLASS_NAME, value=name) instead\n",
      "  seller = line.find_element_by_class_name('seller-info__name').text.strip()\n",
      "C:\\Users\\irfan\\AppData\\Local\\Temp/ipykernel_11796/1956121409.py:13: DeprecationWarning: find_element_by_class_name is deprecated. Please use find_element(by=By.CLASS_NAME, value=name) instead\n",
      "  listing_condition = line.find_element_by_class_name('listing-item__condition').text.strip().lower()\n",
      "C:\\Users\\irfan\\AppData\\Local\\Temp/ipykernel_11796/1956121409.py:18: DeprecationWarning: find_element_by_class_name is deprecated. Please use find_element(by=By.CLASS_NAME, value=name) instead\n",
      "  price = line.find_element_by_class_name('listing-item__price').text\n"
     ]
    },
    {
     "name": "stdout",
     "output_type": "stream",
     "text": [
      "            seller              listing_condition  price\n",
      "0    LastSavePoint          near mint 1st edition  11.98\n",
      "1  Unsolved Gaming          near mint 1st edition  11.99\n",
      "2       GameTimeCC          near mint 1st edition  14.88\n",
      "3    LastSavePoint  moderately played 1st edition  18.96\n",
      "4    LastSavePoint     lightly played 1st edition  18.96\n"
     ]
    }
   ],
   "source": [
    "main()"
   ]
  }
 ],
 "metadata": {
  "kernelspec": {
   "display_name": "Python 3 (ipykernel)",
   "language": "python",
   "name": "python3"
  },
  "language_info": {
   "codemirror_mode": {
    "name": "ipython",
    "version": 3
   },
   "file_extension": ".py",
   "mimetype": "text/x-python",
   "name": "python",
   "nbconvert_exporter": "python",
   "pygments_lexer": "ipython3",
   "version": "3.9.7"
  }
 },
 "nbformat": 4,
 "nbformat_minor": 5
}
