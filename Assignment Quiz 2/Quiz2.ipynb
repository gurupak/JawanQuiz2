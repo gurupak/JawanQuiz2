{
 "cells": [
  {
   "cell_type": "markdown",
   "id": "a4f0d1bf",
   "metadata": {},
   "source": [
    "## Write a python to print following string in a specific format"
   ]
  },
  {
   "cell_type": "code",
   "execution_count": 1,
   "id": "1c78046a",
   "metadata": {},
   "outputs": [
    {
     "name": "stdout",
     "output_type": "stream",
     "text": [
      "Twinkle, twinkle little star\n",
      "\tHow I wonder what you are!\n",
      "\t\tUp above the world so high\n",
      "\t\tLike a diamond in the sky\n",
      "Twinkle, twinkle, little star,\n",
      "\tHow are you wonder what you are\n"
     ]
    }
   ],
   "source": [
    "poem = \"Twinkle, twinkle little star\\n\\tHow I wonder what you are!\\n\\t\\tUp above the world so high\\n\\t\\tLike a diamond in the sky\\nTwinkle, twinkle, little star,\\n\\tHow are you wonder what you are\"\n",
    "print(poem)"
   ]
  },
  {
   "cell_type": "markdown",
   "id": "b0174e5b",
   "metadata": {},
   "source": [
    "## Write a python program to get the python version you are using"
   ]
  },
  {
   "cell_type": "code",
   "execution_count": 2,
   "id": "0ef91660",
   "metadata": {},
   "outputs": [
    {
     "name": "stdout",
     "output_type": "stream",
     "text": [
      "3.8.12 (default, Oct 12 2021, 03:01:40) [MSC v.1916 64 bit (AMD64)]\n"
     ]
    }
   ],
   "source": [
    "import sys\n",
    "\n",
    "print(sys.version)"
   ]
  },
  {
   "cell_type": "markdown",
   "id": "622d9132",
   "metadata": {},
   "source": [
    "## Write a Python program to print current date and time"
   ]
  },
  {
   "cell_type": "code",
   "execution_count": 3,
   "id": "2966124a",
   "metadata": {},
   "outputs": [
    {
     "name": "stdout",
     "output_type": "stream",
     "text": [
      "2021-12-29 00:33:47.784298\n"
     ]
    }
   ],
   "source": [
    "from datetime import datetime\n",
    "print(datetime.now())"
   ]
  },
  {
   "cell_type": "markdown",
   "id": "c4b3f106",
   "metadata": {},
   "source": [
    "## Write a Python program which accepts the radius of a circle from user and compute the area"
   ]
  },
  {
   "cell_type": "code",
   "execution_count": 4,
   "id": "3086a879",
   "metadata": {},
   "outputs": [
    {
     "name": "stdout",
     "output_type": "stream",
     "text": [
      "Enter the radius of circle: 12\n",
      "Area of the circle: 452.16\n"
     ]
    }
   ],
   "source": [
    "rad = float(input(\"Enter the radius of circle: \"))\n",
    "PI = 3.14\n",
    "area = PI * rad * rad\n",
    "print(\"Area of the circle: {:.2f}\".format(area))"
   ]
  },
  {
   "cell_type": "markdown",
   "id": "2dc9cb75",
   "metadata": {},
   "source": [
    "## Write a Python program which accepts the user's first name and last name and print it in reverse order with a space between them"
   ]
  },
  {
   "cell_type": "code",
   "execution_count": 5,
   "id": "04acaa6f",
   "metadata": {},
   "outputs": [
    {
     "name": "stdout",
     "output_type": "stream",
     "text": [
      "Enter your first name: Irfan\n",
      "Enter your last name: Ahmed\n",
      "Reversed Name: Ahmed Irfan\n"
     ]
    }
   ],
   "source": [
    "firstname = input(\"Enter your first name: \")\n",
    "lastname = input(\"Enter your last name: \")\n",
    "\n",
    "print(f'Reversed Name: {lastname} {firstname}')"
   ]
  },
  {
   "cell_type": "markdown",
   "id": "221d510b",
   "metadata": {},
   "source": [
    "## Write a Python program that takes two inputs from user and print them addition"
   ]
  },
  {
   "cell_type": "code",
   "execution_count": 6,
   "id": "2e7b91e3",
   "metadata": {},
   "outputs": [
    {
     "name": "stdout",
     "output_type": "stream",
     "text": [
      "Enter first number: 30\n",
      "Enter second number: 10\n",
      "Result of 30 + 10 = 40\n"
     ]
    }
   ],
   "source": [
    "a = int(input(\"Enter first number: \"))\n",
    "b = int(input(\"Enter second number: \"))\n",
    "result = a + b\n",
    "print(f'Result of {a} + {b} = {result}')"
   ]
  }
 ],
 "metadata": {
  "kernelspec": {
   "display_name": "Python 3 (ipykernel)",
   "language": "python",
   "name": "python3"
  },
  "language_info": {
   "codemirror_mode": {
    "name": "ipython",
    "version": 3
   },
   "file_extension": ".py",
   "mimetype": "text/x-python",
   "name": "python",
   "nbconvert_exporter": "python",
   "pygments_lexer": "ipython3",
   "version": "3.8.12"
  }
 },
 "nbformat": 4,
 "nbformat_minor": 5
}
